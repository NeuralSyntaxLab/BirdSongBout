{
 "cells": [
  {
   "cell_type": "code",
   "execution_count": 2,
   "metadata": {},
   "outputs": [
    {
     "name": "stderr",
     "output_type": "stream",
     "text": [
      "/Users/yardenc/anaconda2/lib/python2.7/site-packages/h5py/__init__.py:34: FutureWarning: Conversion of the second argument of issubdtype from `float` to `np.floating` is deprecated. In future, it will be treated as `np.float64 == np.dtype(float).type`.\n",
      "  from ._conv import register_converters as _register_converters\n"
     ]
    },
    {
     "name": "stdout",
     "output_type": "stream",
     "text": [
      "['syllable_spects_1.mat', 'syllable_spects_10.mat', 'syllable_spects_11.mat', 'syllable_spects_12.mat', 'syllable_spects_13.mat', 'syllable_spects_14.mat', 'syllable_spects_15.mat', 'syllable_spects_16.mat', 'syllable_spects_17.mat', 'syllable_spects_18.mat', 'syllable_spects_19.mat', 'syllable_spects_2.mat', 'syllable_spects_20.mat', 'syllable_spects_21.mat', 'syllable_spects_22.mat', 'syllable_spects_23.mat', 'syllable_spects_24.mat', 'syllable_spects_25.mat', 'syllable_spects_26.mat', 'syllable_spects_27.mat', 'syllable_spects_28.mat', 'syllable_spects_29.mat', 'syllable_spects_3.mat', 'syllable_spects_30.mat', 'syllable_spects_31.mat', 'syllable_spects_32.mat', 'syllable_spects_33.mat', 'syllable_spects_34.mat', 'syllable_spects_35.mat', 'syllable_spects_36.mat', 'syllable_spects_37.mat', 'syllable_spects_38.mat', 'syllable_spects_39.mat', 'syllable_spects_4.mat', 'syllable_spects_40.mat', 'syllable_spects_41.mat', 'syllable_spects_42.mat', 'syllable_spects_43.mat', 'syllable_spects_44.mat', 'syllable_spects_45.mat', 'syllable_spects_46.mat', 'syllable_spects_47.mat', 'syllable_spects_5.mat', 'syllable_spects_6.mat', 'syllable_spects_7.mat', 'syllable_spects_8.mat', 'syllable_spects_9.mat']\n",
      "Working on syllable_spects_9.mat\n",
      "We have 158195 syllables in this class\n",
      "0\n",
      "All spectrograms were zero padded to equally have 33 time bins.\n"
     ]
    },
    {
     "name": "stderr",
     "output_type": "stream",
     "text": [
      "/Users/yardenc/anaconda2/lib/python2.7/site-packages/sklearn/ensemble/iforest.py:223: FutureWarning: behaviour=\"old\" is deprecated and will be removed in version 0.22. Please use behaviour=\"new\", which makes the decision_function change to match other anomaly detection algorithm API.\n",
      "  FutureWarning)\n",
      "/Users/yardenc/anaconda2/lib/python2.7/site-packages/sklearn/ensemble/iforest.py:417: DeprecationWarning: threshold_ attribute is deprecated in 0.20 and will be removed in 0.22.\n",
      "  \" be removed in 0.22.\", DeprecationWarning)\n"
     ]
    },
    {
     "name": "stdout",
     "output_type": "stream",
     "text": [
      "20000\n",
      "All spectrograms were zero padded to equally have 33 time bins.\n"
     ]
    },
    {
     "name": "stderr",
     "output_type": "stream",
     "text": [
      "/Users/yardenc/anaconda2/lib/python2.7/site-packages/sklearn/ensemble/iforest.py:417: DeprecationWarning: threshold_ attribute is deprecated in 0.20 and will be removed in 0.22.\n",
      "  \" be removed in 0.22.\", DeprecationWarning)\n"
     ]
    },
    {
     "name": "stdout",
     "output_type": "stream",
     "text": [
      "40000\n",
      "All spectrograms were zero padded to equally have 33 time bins.\n"
     ]
    },
    {
     "name": "stderr",
     "output_type": "stream",
     "text": [
      "/Users/yardenc/anaconda2/lib/python2.7/site-packages/sklearn/ensemble/iforest.py:417: DeprecationWarning: threshold_ attribute is deprecated in 0.20 and will be removed in 0.22.\n",
      "  \" be removed in 0.22.\", DeprecationWarning)\n"
     ]
    },
    {
     "name": "stdout",
     "output_type": "stream",
     "text": [
      "60000\n",
      "All spectrograms were zero padded to equally have 33 time bins.\n"
     ]
    },
    {
     "name": "stderr",
     "output_type": "stream",
     "text": [
      "/Users/yardenc/anaconda2/lib/python2.7/site-packages/sklearn/ensemble/iforest.py:417: DeprecationWarning: threshold_ attribute is deprecated in 0.20 and will be removed in 0.22.\n",
      "  \" be removed in 0.22.\", DeprecationWarning)\n"
     ]
    },
    {
     "name": "stdout",
     "output_type": "stream",
     "text": [
      "80000\n",
      "All spectrograms were zero padded to equally have 33 time bins.\n"
     ]
    },
    {
     "name": "stderr",
     "output_type": "stream",
     "text": [
      "/Users/yardenc/anaconda2/lib/python2.7/site-packages/sklearn/ensemble/iforest.py:417: DeprecationWarning: threshold_ attribute is deprecated in 0.20 and will be removed in 0.22.\n",
      "  \" be removed in 0.22.\", DeprecationWarning)\n"
     ]
    },
    {
     "name": "stdout",
     "output_type": "stream",
     "text": [
      "100000\n",
      "All spectrograms were zero padded to equally have 33 time bins.\n"
     ]
    },
    {
     "name": "stderr",
     "output_type": "stream",
     "text": [
      "/Users/yardenc/anaconda2/lib/python2.7/site-packages/sklearn/ensemble/iforest.py:417: DeprecationWarning: threshold_ attribute is deprecated in 0.20 and will be removed in 0.22.\n",
      "  \" be removed in 0.22.\", DeprecationWarning)\n"
     ]
    },
    {
     "name": "stdout",
     "output_type": "stream",
     "text": [
      "120000\n",
      "All spectrograms were zero padded to equally have 33 time bins.\n"
     ]
    },
    {
     "name": "stderr",
     "output_type": "stream",
     "text": [
      "/Users/yardenc/anaconda2/lib/python2.7/site-packages/sklearn/ensemble/iforest.py:417: DeprecationWarning: threshold_ attribute is deprecated in 0.20 and will be removed in 0.22.\n",
      "  \" be removed in 0.22.\", DeprecationWarning)\n"
     ]
    },
    {
     "name": "stdout",
     "output_type": "stream",
     "text": [
      "140000\n",
      "All spectrograms were zero padded to equally have 33 time bins.\n"
     ]
    },
    {
     "name": "stderr",
     "output_type": "stream",
     "text": [
      "/Users/yardenc/anaconda2/lib/python2.7/site-packages/sklearn/ensemble/iforest.py:417: DeprecationWarning: threshold_ attribute is deprecated in 0.20 and will be removed in 0.22.\n",
      "  \" be removed in 0.22.\", DeprecationWarning)\n"
     ]
    }
   ],
   "source": [
    "# Names of folders and variables\n",
    "\n",
    "path_to_data_files = '/Users/yardenc/Dropbox/Cohen_CanaryBoutAnnotation/lb4483/Part 1/SyllableSpects'\n",
    "file_prefix = 'syllable_spects_'\n",
    "\n",
    "# imports\n",
    "\n",
    "import numpy as np\n",
    "import scipy.io as cpio\n",
    "import os\n",
    "import matplotlib.pyplot as plt\n",
    "import glob\n",
    "from sklearn.neighbors import LocalOutlierFactor\n",
    "from sklearn.ensemble import IsolationForest\n",
    "import h5py\n",
    "\n",
    "\n",
    "np.random.seed(42)\n",
    "\n",
    "# Work on all files\n",
    "os.chdir(path_to_data_files)\n",
    "matfiles = glob.glob(file_prefix + '*.mat')\n",
    "print(matfiles)\n",
    "numfiles = len(matfiles)\n",
    "\n",
    "for fnum0 in range(46,numfiles):\n",
    "    # skipped 4 because of memory issues\n",
    "    # remember to change back the range\n",
    "    fname0 = matfiles[fnum0]\n",
    "    \n",
    "    print('Working on ' + fname0)\n",
    "    f = h5py.File(fname0)\n",
    "    num_syls0 = len(f['syllable_spects']['samples'][0])\n",
    "    \n",
    "    max_entries = 20000\n",
    "    \n",
    "    #data0 = cpio.loadmat(fname0) \n",
    "    #num_syls0 = len(data0['syllable_spects'][0][0][1])\n",
    "    print('We have ' + str(num_syls0)  + ' syllables in this class');\n",
    "\n",
    "# Find max number of time bins  and complete spectrograms by zero padding\n",
    "# (keeping the spectrogram centered)\n",
    "    #max_bins = np.max([a[1] for a in [np.shape(np.array(f[f['syllable_spects']['samples'][0][k]])) for k in range(num_syls0)]])\n",
    "    max_bins = np.max([a[0] for a in [np.shape(np.array(f[f['syllable_spects']['samples'][0][k]])) for k in range(num_syls0)]])\n",
    "    #max_bins = np.max([a[1] for a in [np.shape(data0['syllable_spects'][0][0][1][k][0]) for k in range(num_syls0)]])\n",
    "    currsylidx = 0;\n",
    "    output_y = np.asarray([]);\n",
    "    while currsylidx < num_syls0:\n",
    "        data1 = [];\n",
    "        print(currsylidx)\n",
    "        for sylcnt in range(currsylidx,min(num_syls0,currsylidx+max_entries)):\n",
    "            #[a,numbins] = np.shape(data0['syllable_spects'][0][0][1][sylcnt][0]) #np.array(f[f['syllable_spects']['samples'][0][sylcnt]])) #\n",
    "            [numbins,a] = np.shape(np.array(f[f['syllable_spects']['samples'][0][sylcnt]]))\n",
    "            bins_to_add = max_bins - numbins\n",
    "            bins_before = bins_to_add/2\n",
    "            bins_after = bins_to_add - bins_before\n",
    "            #data0['syllable_spects'][0][0][1][sylcnt][0] = np.concatenate(\n",
    "            #    (np.zeros((513,bins_before)),\n",
    "            #    data0['syllable_spects'][0][0][1][sylcnt][0],\n",
    "            #    np.zeros((513,bins_after))),axis=1)\n",
    "            data1.append(np.concatenate(\n",
    "                (np.zeros((513,bins_before)),\n",
    "                np.transpose(f[f['syllable_spects']['samples'][0][sylcnt]]),\n",
    "                np.zeros((513,bins_after))),axis=1))\n",
    "\n",
    "        print('All spectrograms were zero padded to equally have ' + str(max_bins) + ' time bins.')        \n",
    "\n",
    "    # Reshape dataset\n",
    "        #X0 = [np.reshape(data0['syllable_spects'][0][0][1][k][0],(-1,)) for k in range(num_syls0)]\n",
    "        #X0 = [np.reshape(f[f['syllable_spects']['samples'][0][k]],(-1,)) for k in range(num_syls0)]\n",
    "        X0 = [np.reshape(data1[k],(-1,)) for k in range(np.size(data1,0))]\n",
    "\n",
    "    # Train model\n",
    "        clf = IsolationForest(contamination=0.03,\n",
    "                                             random_state=42)\n",
    "        #LocalOutlierFactor(n_neighbors=20, contamination=0.01)\n",
    "\n",
    "        y_pred = clf.fit(X0).predict(X0) #fit_predict(X0)\n",
    "        output_y = np.concatenate((output_y,y_pred),axis=0)\n",
    "        currsylidx = currsylidx + max_entries\n",
    "        \n",
    "# save results\n",
    "    output_filename = 'output_' + fname0\n",
    "    cpio.savemat(output_filename,{'output':output_y})\n",
    "        "
   ]
  },
  {
   "cell_type": "code",
   "execution_count": 1,
   "metadata": {},
   "outputs": [
    {
     "ename": "NameError",
     "evalue": "name 'fnum0' is not defined",
     "output_type": "error",
     "traceback": [
      "\u001b[0;31m---------------------------------------------------------------------------\u001b[0m",
      "\u001b[0;31mNameError\u001b[0m                                 Traceback (most recent call last)",
      "\u001b[0;32m<ipython-input-1-37546aec3beb>\u001b[0m in \u001b[0;36m<module>\u001b[0;34m()\u001b[0m\n\u001b[0;32m----> 1\u001b[0;31m \u001b[0mfnum0\u001b[0m\u001b[0;34m\u001b[0m\u001b[0m\n\u001b[0m",
      "\u001b[0;31mNameError\u001b[0m: name 'fnum0' is not defined"
     ]
    }
   ],
   "source": [
    "fnum0"
   ]
  },
  {
   "cell_type": "code",
   "execution_count": 16,
   "metadata": {},
   "outputs": [
    {
     "name": "stdout",
     "output_type": "stream",
     "text": [
      "0\n",
      "All spectrograms were zero padded to equally have 38 time bins.\n"
     ]
    },
    {
     "name": "stderr",
     "output_type": "stream",
     "text": [
      "/Users/yardenc/anaconda2/lib/python2.7/site-packages/sklearn/ensemble/iforest.py:223: FutureWarning: behaviour=\"old\" is deprecated and will be removed in version 0.22. Please use behaviour=\"new\", which makes the decision_function change to match other anomaly detection algorithm API.\n",
      "  FutureWarning)\n",
      "/Users/yardenc/anaconda2/lib/python2.7/site-packages/sklearn/ensemble/iforest.py:417: DeprecationWarning: threshold_ attribute is deprecated in 0.20 and will be removed in 0.22.\n",
      "  \" be removed in 0.22.\", DeprecationWarning)\n"
     ]
    },
    {
     "name": "stdout",
     "output_type": "stream",
     "text": [
      "20000\n",
      "All spectrograms were zero padded to equally have 38 time bins.\n"
     ]
    },
    {
     "name": "stderr",
     "output_type": "stream",
     "text": [
      "/Users/yardenc/anaconda2/lib/python2.7/site-packages/sklearn/ensemble/iforest.py:417: DeprecationWarning: threshold_ attribute is deprecated in 0.20 and will be removed in 0.22.\n",
      "  \" be removed in 0.22.\", DeprecationWarning)\n"
     ]
    },
    {
     "name": "stdout",
     "output_type": "stream",
     "text": [
      "40000\n",
      "All spectrograms were zero padded to equally have 38 time bins.\n"
     ]
    },
    {
     "name": "stderr",
     "output_type": "stream",
     "text": [
      "/Users/yardenc/anaconda2/lib/python2.7/site-packages/sklearn/ensemble/iforest.py:417: DeprecationWarning: threshold_ attribute is deprecated in 0.20 and will be removed in 0.22.\n",
      "  \" be removed in 0.22.\", DeprecationWarning)\n"
     ]
    },
    {
     "name": "stdout",
     "output_type": "stream",
     "text": [
      "60000\n",
      "All spectrograms were zero padded to equally have 38 time bins.\n"
     ]
    },
    {
     "name": "stderr",
     "output_type": "stream",
     "text": [
      "/Users/yardenc/anaconda2/lib/python2.7/site-packages/sklearn/ensemble/iforest.py:417: DeprecationWarning: threshold_ attribute is deprecated in 0.20 and will be removed in 0.22.\n",
      "  \" be removed in 0.22.\", DeprecationWarning)\n"
     ]
    },
    {
     "name": "stdout",
     "output_type": "stream",
     "text": [
      "80000\n",
      "All spectrograms were zero padded to equally have 38 time bins.\n"
     ]
    },
    {
     "name": "stderr",
     "output_type": "stream",
     "text": [
      "/Users/yardenc/anaconda2/lib/python2.7/site-packages/sklearn/ensemble/iforest.py:417: DeprecationWarning: threshold_ attribute is deprecated in 0.20 and will be removed in 0.22.\n",
      "  \" be removed in 0.22.\", DeprecationWarning)\n"
     ]
    },
    {
     "name": "stdout",
     "output_type": "stream",
     "text": [
      "100000\n",
      "All spectrograms were zero padded to equally have 38 time bins.\n"
     ]
    },
    {
     "name": "stderr",
     "output_type": "stream",
     "text": [
      "/Users/yardenc/anaconda2/lib/python2.7/site-packages/sklearn/ensemble/iforest.py:417: DeprecationWarning: threshold_ attribute is deprecated in 0.20 and will be removed in 0.22.\n",
      "  \" be removed in 0.22.\", DeprecationWarning)\n"
     ]
    },
    {
     "name": "stdout",
     "output_type": "stream",
     "text": [
      "120000\n",
      "All spectrograms were zero padded to equally have 38 time bins.\n"
     ]
    },
    {
     "name": "stderr",
     "output_type": "stream",
     "text": [
      "/Users/yardenc/anaconda2/lib/python2.7/site-packages/sklearn/ensemble/iforest.py:417: DeprecationWarning: threshold_ attribute is deprecated in 0.20 and will be removed in 0.22.\n",
      "  \" be removed in 0.22.\", DeprecationWarning)\n"
     ]
    },
    {
     "name": "stdout",
     "output_type": "stream",
     "text": [
      "140000\n",
      "All spectrograms were zero padded to equally have 38 time bins.\n"
     ]
    },
    {
     "name": "stderr",
     "output_type": "stream",
     "text": [
      "/Users/yardenc/anaconda2/lib/python2.7/site-packages/sklearn/ensemble/iforest.py:417: DeprecationWarning: threshold_ attribute is deprecated in 0.20 and will be removed in 0.22.\n",
      "  \" be removed in 0.22.\", DeprecationWarning)\n"
     ]
    },
    {
     "name": "stdout",
     "output_type": "stream",
     "text": [
      "160000\n",
      "All spectrograms were zero padded to equally have 38 time bins.\n"
     ]
    },
    {
     "name": "stderr",
     "output_type": "stream",
     "text": [
      "/Users/yardenc/anaconda2/lib/python2.7/site-packages/sklearn/ensemble/iforest.py:417: DeprecationWarning: threshold_ attribute is deprecated in 0.20 and will be removed in 0.22.\n",
      "  \" be removed in 0.22.\", DeprecationWarning)\n"
     ]
    }
   ],
   "source": [
    "currsylidx=0\n",
    "while currsylidx < num_syls0:\n",
    "    data1 = [];\n",
    "    print(currsylidx)\n",
    "    for sylcnt in range(currsylidx,min(num_syls0,currsylidx+max_entries)):\n",
    "        #[a,numbins] = np.shape(data0['syllable_spects'][0][0][1][sylcnt][0]) #np.array(f[f['syllable_spects']['samples'][0][sylcnt]])) #\n",
    "        [numbins,a] = np.shape(np.array(f[f['syllable_spects']['samples'][0][sylcnt]]))\n",
    "        bins_to_add = max_bins - numbins\n",
    "        bins_before = bins_to_add/2\n",
    "        bins_after = bins_to_add - bins_before\n",
    "        #data0['syllable_spects'][0][0][1][sylcnt][0] = np.concatenate(\n",
    "        #    (np.zeros((513,bins_before)),\n",
    "        #    data0['syllable_spects'][0][0][1][sylcnt][0],\n",
    "        #    np.zeros((513,bins_after))),axis=1)\n",
    "        data1.append(np.concatenate(\n",
    "            (np.zeros((513,bins_before)),\n",
    "            np.transpose(f[f['syllable_spects']['samples'][0][sylcnt]]),\n",
    "            np.zeros((513,bins_after))),axis=1))\n",
    "\n",
    "    print('All spectrograms were zero padded to equally have ' + str(max_bins) + ' time bins.')        \n",
    "\n",
    "# Reshape dataset\n",
    "    #X0 = [np.reshape(data0['syllable_spects'][0][0][1][k][0],(-1,)) for k in range(num_syls0)]\n",
    "    #X0 = [np.reshape(f[f['syllable_spects']['samples'][0][k]],(-1,)) for k in range(num_syls0)]\n",
    "    X0 = [np.reshape(data1[k],(-1,)) for k in range(np.size(data1,0))]\n",
    "\n",
    "# Train model\n",
    "    clf = IsolationForest(contamination=0.03,\n",
    "                                         random_state=42)\n",
    "    #LocalOutlierFactor(n_neighbors=20, contamination=0.01)\n",
    "\n",
    "    y_pred = clf.fit(X0).predict(X0) #fit_predict(X0)\n",
    "    output_y = np.concatenate() append(y_pred)\n",
    "    currsylidx = currsylidx + max_entries\n"
   ]
  },
  {
   "cell_type": "code",
   "execution_count": 59,
   "metadata": {},
   "outputs": [
    {
     "ename": "IOError",
     "evalue": "Can't read data (Inflate() failed)",
     "output_type": "error",
     "traceback": [
      "\u001b[0;31m---------------------------------------------------------------------------\u001b[0m",
      "\u001b[0;31mIOError\u001b[0m                                   Traceback (most recent call last)",
      "\u001b[0;32m<ipython-input-59-38f901977fe9>\u001b[0m in \u001b[0;36m<module>\u001b[0;34m()\u001b[0m\n\u001b[0;32m----> 1\u001b[0;31m \u001b[0mf\u001b[0m\u001b[0;34m[\u001b[0m\u001b[0;34m'syllable_spects'\u001b[0m\u001b[0;34m]\u001b[0m\u001b[0;34m[\u001b[0m\u001b[0;34m'samples'\u001b[0m\u001b[0;34m]\u001b[0m\u001b[0;34m[\u001b[0m\u001b[0;36m0\u001b[0m\u001b[0;34m]\u001b[0m\u001b[0;34m\u001b[0m\u001b[0m\n\u001b[0m",
      "\u001b[0;32mh5py/_objects.pyx\u001b[0m in \u001b[0;36mh5py._objects.with_phil.wrapper (/Users/ilan/minonda/conda-bld/h5py_1490026561416/work/h5py/_objects.c:2846)\u001b[0;34m()\u001b[0m\n",
      "\u001b[0;32mh5py/_objects.pyx\u001b[0m in \u001b[0;36mh5py._objects.with_phil.wrapper (/Users/ilan/minonda/conda-bld/h5py_1490026561416/work/h5py/_objects.c:2804)\u001b[0;34m()\u001b[0m\n",
      "\u001b[0;32m/Users/yardenc/anaconda2/lib/python2.7/site-packages/h5py/_hl/dataset.pyc\u001b[0m in \u001b[0;36m__getitem__\u001b[0;34m(self, args)\u001b[0m\n\u001b[1;32m    492\u001b[0m         \u001b[0mmspace\u001b[0m \u001b[0;34m=\u001b[0m \u001b[0mh5s\u001b[0m\u001b[0;34m.\u001b[0m\u001b[0mcreate_simple\u001b[0m\u001b[0;34m(\u001b[0m\u001b[0mmshape\u001b[0m\u001b[0;34m)\u001b[0m\u001b[0;34m\u001b[0m\u001b[0m\n\u001b[1;32m    493\u001b[0m         \u001b[0mfspace\u001b[0m \u001b[0;34m=\u001b[0m \u001b[0mselection\u001b[0m\u001b[0;34m.\u001b[0m\u001b[0mid\u001b[0m\u001b[0;34m\u001b[0m\u001b[0m\n\u001b[0;32m--> 494\u001b[0;31m         \u001b[0mself\u001b[0m\u001b[0;34m.\u001b[0m\u001b[0mid\u001b[0m\u001b[0;34m.\u001b[0m\u001b[0mread\u001b[0m\u001b[0;34m(\u001b[0m\u001b[0mmspace\u001b[0m\u001b[0;34m,\u001b[0m \u001b[0mfspace\u001b[0m\u001b[0;34m,\u001b[0m \u001b[0marr\u001b[0m\u001b[0;34m,\u001b[0m \u001b[0mmtype\u001b[0m\u001b[0;34m,\u001b[0m \u001b[0mdxpl\u001b[0m\u001b[0;34m=\u001b[0m\u001b[0mself\u001b[0m\u001b[0;34m.\u001b[0m\u001b[0m_dxpl\u001b[0m\u001b[0;34m)\u001b[0m\u001b[0;34m\u001b[0m\u001b[0m\n\u001b[0m\u001b[1;32m    495\u001b[0m \u001b[0;34m\u001b[0m\u001b[0m\n\u001b[1;32m    496\u001b[0m         \u001b[0;31m# Patch up the output for NumPy\u001b[0m\u001b[0;34m\u001b[0m\u001b[0;34m\u001b[0m\u001b[0m\n",
      "\u001b[0;32mh5py/_objects.pyx\u001b[0m in \u001b[0;36mh5py._objects.with_phil.wrapper (/Users/ilan/minonda/conda-bld/h5py_1490026561416/work/h5py/_objects.c:2846)\u001b[0;34m()\u001b[0m\n",
      "\u001b[0;32mh5py/_objects.pyx\u001b[0m in \u001b[0;36mh5py._objects.with_phil.wrapper (/Users/ilan/minonda/conda-bld/h5py_1490026561416/work/h5py/_objects.c:2804)\u001b[0;34m()\u001b[0m\n",
      "\u001b[0;32mh5py/h5d.pyx\u001b[0m in \u001b[0;36mh5py.h5d.DatasetID.read (/Users/ilan/minonda/conda-bld/h5py_1490026561416/work/h5py/h5d.c:3413)\u001b[0;34m()\u001b[0m\n",
      "\u001b[0;32mh5py/_proxy.pyx\u001b[0m in \u001b[0;36mh5py._proxy.dset_rw (/Users/ilan/minonda/conda-bld/h5py_1490026561416/work/h5py/_proxy.c:2289)\u001b[0;34m()\u001b[0m\n",
      "\u001b[0;32mh5py/_proxy.pyx\u001b[0m in \u001b[0;36mh5py._proxy.H5PY_H5Dread (/Users/ilan/minonda/conda-bld/h5py_1490026561416/work/h5py/_proxy.c:1656)\u001b[0;34m()\u001b[0m\n",
      "\u001b[0;31mIOError\u001b[0m: Can't read data (Inflate() failed)"
     ]
    }
   ],
   "source": [
    "f['syllable_spects']['samples'][0]"
   ]
  },
  {
   "cell_type": "code",
   "execution_count": 1,
   "metadata": {},
   "outputs": [
    {
     "name": "stderr",
     "output_type": "stream",
     "text": [
      "/Users/yardenc/anaconda2/lib/python2.7/site-packages/h5py/__init__.py:34: FutureWarning: Conversion of the second argument of issubdtype from `float` to `np.floating` is deprecated. In future, it will be treated as `np.float64 == np.dtype(float).type`.\n",
      "  from ._conv import register_converters as _register_converters\n"
     ]
    },
    {
     "name": "stdout",
     "output_type": "stream",
     "text": [
      "['syllable_spects_1.mat', 'syllable_spects_10.mat', 'syllable_spects_11.mat', 'syllable_spects_12.mat', 'syllable_spects_13.mat', 'syllable_spects_14.mat', 'syllable_spects_15.mat', 'syllable_spects_16.mat', 'syllable_spects_17.mat', 'syllable_spects_18.mat', 'syllable_spects_19.mat', 'syllable_spects_2.mat', 'syllable_spects_20.mat', 'syllable_spects_21.mat', 'syllable_spects_22.mat', 'syllable_spects_23.mat', 'syllable_spects_24.mat', 'syllable_spects_25.mat', 'syllable_spects_26.mat', 'syllable_spects_27.mat', 'syllable_spects_28.mat', 'syllable_spects_29.mat', 'syllable_spects_3.mat', 'syllable_spects_30.mat', 'syllable_spects_31.mat', 'syllable_spects_32.mat', 'syllable_spects_33.mat', 'syllable_spects_34.mat', 'syllable_spects_35.mat', 'syllable_spects_36.mat', 'syllable_spects_37.mat', 'syllable_spects_38.mat', 'syllable_spects_39.mat', 'syllable_spects_4.mat', 'syllable_spects_40.mat', 'syllable_spects_41.mat', 'syllable_spects_42.mat', 'syllable_spects_43.mat', 'syllable_spects_44.mat', 'syllable_spects_45.mat', 'syllable_spects_46.mat', 'syllable_spects_47.mat', 'syllable_spects_5.mat', 'syllable_spects_6.mat', 'syllable_spects_7.mat', 'syllable_spects_8.mat', 'syllable_spects_9.mat']\n",
      "Working on syllable_spects_13.mat\n",
      "We have 166964 syllables in this class\n"
     ]
    }
   ],
   "source": [
    "path_to_data_files = '/Users/yardenc/Dropbox/Cohen_CanaryBoutAnnotation/lb4483/Part 1/SyllableSpects'\n",
    "file_prefix = 'syllable_spects_'\n",
    "\n",
    "# imports\n",
    "\n",
    "import numpy as np\n",
    "import scipy.io as cpio\n",
    "import os\n",
    "import matplotlib.pyplot as plt\n",
    "import glob\n",
    "from sklearn.neighbors import LocalOutlierFactor\n",
    "from sklearn.ensemble import IsolationForest\n",
    "import h5py\n",
    "\n",
    "np.random.seed(42)\n",
    "\n",
    "# Work on all files\n",
    "os.chdir(path_to_data_files)\n",
    "matfiles = glob.glob(file_prefix + '*.mat')\n",
    "print(matfiles)\n",
    "numfiles = len(matfiles)\n",
    "\n",
    "fnum0=4\n",
    "fname0 = matfiles[fnum0]\n",
    "    \n",
    "print('Working on ' + fname0)\n",
    "f = h5py.File(fname0)\n",
    "num_syls0 = len(f['syllable_spects']['samples'][0])\n",
    "data1 = [];\n",
    "#data0 = cpio.loadmat(fname0) \n",
    "#num_syls0 = len(data0['syllable_spects'][0][0][1])\n",
    "print('We have ' + str(num_syls0)  + ' syllables in this class');\n",
    "\n",
    "# Find max number of time bins  and complete spectrograms by zero padding\n",
    "# (keeping the spectrogram centered)\n",
    "#max_bins = np.max([a[1] for a in [np.shape(np.array(f[f['syllable_spects']['samples'][0][k]])) for k in range(num_syls0)]])\n",
    "max_bins = np.max([a[0] for a in [np.shape(np.array(f[f['syllable_spects']['samples'][0][k]])) for k in range(num_syls0)]])"
   ]
  },
  {
   "cell_type": "code",
   "execution_count": 3,
   "metadata": {},
   "outputs": [
    {
     "data": {
      "text/plain": [
       "38"
      ]
     },
     "execution_count": 3,
     "metadata": {},
     "output_type": "execute_result"
    }
   ],
   "source": [
    "max_bins"
   ]
  },
  {
   "cell_type": "code",
   "execution_count": 37,
   "metadata": {},
   "outputs": [
    {
     "data": {
      "text/plain": [
       "dtype('float32')"
      ]
     },
     "execution_count": 37,
     "metadata": {},
     "output_type": "execute_result"
    }
   ],
   "source": [
    "f[f['syllable_spects']['samples'][0][sylcnt]].dtype"
   ]
  },
  {
   "cell_type": "code",
   "execution_count": 24,
   "metadata": {},
   "outputs": [
    {
     "data": {
      "text/plain": [
       "{'__globals__': [],\n",
       " '__header__': 'MATLAB 5.0 MAT-file, Platform: MACI64, Created on: Fri Jun 14 11:50:35 2019',\n",
       " '__version__': '1.0',\n",
       " 'syllable_spects': array([[(array([[1]], dtype=uint8), array([[array([[2.7197635e+00, 3.2908945e+00, 2.9610467e+00, ..., 2.2231159e+00,\n",
       "         9.4844133e-01, 8.8988906e-01],\n",
       "        [2.7330649e+00, 3.2697740e+00, 3.1010237e+00, ..., 2.4715652e+00,\n",
       "         1.5949491e+00, 1.1530445e+00],\n",
       "        [2.7160082e+00, 3.1893210e+00, 3.2286520e+00, ..., 2.7410052e+00,\n",
       "         2.2056837e+00, 1.8597271e+00],\n",
       "        ...,\n",
       "        [2.0934320e-03, 1.6972626e-02, 1.8703430e-03, ..., 3.5088749e-03,\n",
       "         1.6438991e-02, 6.8586483e-03],\n",
       "        [2.0379955e-03, 1.9631032e-02, 3.3678948e-03, ..., 2.8737260e-03,\n",
       "         1.9259669e-02, 6.7941044e-03],\n",
       "        [1.8457487e-03, 2.0320119e-02, 3.4984760e-03, ..., 1.5297254e-03,\n",
       "         2.4142034e-02, 1.3686306e-02]], dtype=float32)],\n",
       "        [array([[4.5966196e-01, 4.6886551e-01, 1.7817515e+00, ..., 2.3137362e+00,\n",
       "         1.6895319e+00, 1.4773765e+00],\n",
       "        [5.5220622e-01, 4.5978916e-01, 1.8956984e+00, ..., 2.3160813e+00,\n",
       "         1.5012741e+00, 1.3638202e+00],\n",
       "        [1.4362627e+00, 1.3921523e+00, 2.0948119e+00, ..., 2.3108015e+00,\n",
       "         1.4869826e+00, 1.3899959e+00],\n",
       "        ...,\n",
       "        [7.8884661e-03, 6.8768244e-03, 5.5480534e-03, ..., 1.0326608e-02,\n",
       "         1.1919048e-02, 1.0795895e-02],\n",
       "        [1.2451166e-02, 1.5767699e-03, 1.0415703e-02, ..., 4.5374790e-03,\n",
       "         6.7836205e-03, 1.2535964e-02],\n",
       "        [8.4993511e-04, 5.0301738e-03, 6.7568333e-03, ..., 3.8316127e-04,\n",
       "         5.2388730e-03, 4.7250576e-03]], dtype=float32)],\n",
       "        [array([[2.2554338e+00, 2.3835957e+00, 2.0116951e+00, ..., 2.4366860e+00,\n",
       "         6.0202765e-01, 1.9380170e+00],\n",
       "        [2.4825840e+00, 2.3644710e+00, 1.5928236e+00, ..., 2.5499070e+00,\n",
       "         1.8714304e+00, 1.9126168e+00],\n",
       "        [2.7177737e+00, 2.3552651e+00, 1.0266167e+00, ..., 2.6599472e+00,\n",
       "         2.2937222e+00, 1.8380089e+00],\n",
       "        ...,\n",
       "        [7.8966198e-03, 7.3260600e-03, 2.0572428e-02, ..., 2.1425441e-02,\n",
       "         2.2233501e-02, 1.7453834e-02],\n",
       "        [9.1363667e-03, 1.2027576e-02, 1.4314413e-02, ..., 2.1131614e-02,\n",
       "         1.2647325e-02, 3.7137254e-03],\n",
       "        [1.6756823e-02, 6.4213490e-03, 1.4618879e-02, ..., 1.7976886e-02,\n",
       "         2.0745087e-03, 4.9814470e-03]], dtype=float32)],\n",
       "        ...,\n",
       "        [array([[5.8315247e-01, 2.0420339e+00, 2.2028792e+00, ..., 2.3476839e+00,\n",
       "         1.7892680e+00, 2.2667382e+00],\n",
       "        [1.0540861e+00, 2.2220900e+00, 2.3989124e+00, ..., 2.4948428e+00,\n",
       "         2.3487160e+00, 2.5199692e+00],\n",
       "        [2.0273283e+00, 2.4548948e+00, 2.6365736e+00, ..., 2.6864018e+00,\n",
       "         2.7355406e+00, 2.7743819e+00],\n",
       "        ...,\n",
       "        [3.3073232e-03, 5.1969197e-03, 1.7019758e-02, ..., 1.7020032e-02,\n",
       "         1.4557948e-02, 2.4977371e-02],\n",
       "        [5.8467872e-03, 3.7654184e-03, 9.2073316e-03, ..., 3.1319149e-02,\n",
       "         8.1520872e-03, 2.6644995e-02],\n",
       "        [2.3078299e-03, 9.1951350e-03, 1.0301042e-02, ..., 2.6990307e-02,\n",
       "         7.0518530e-03, 2.0779856e-02]], dtype=float32)],\n",
       "        [array([[1.79349315e+00, 1.28353751e+00, 1.73346448e+00, ...,\n",
       "         1.68507135e+00, 6.00569129e-01, 1.82576215e+00],\n",
       "        [2.05702162e+00, 1.92937815e+00, 2.00050449e+00, ...,\n",
       "         1.92366588e+00, 1.76931906e+00, 1.99856555e+00],\n",
       "        [2.37043548e+00, 2.33562684e+00, 2.32524920e+00, ...,\n",
       "         2.26352048e+00, 2.25910568e+00, 2.26977062e+00],\n",
       "        ...,\n",
       "        [1.52580591e-03, 6.79983897e-03, 2.22237241e-02, ...,\n",
       "         3.22705284e-02, 4.30166069e-03, 3.34650092e-02],\n",
       "        [6.80134492e-03, 1.18618272e-02, 1.37773035e-02, ...,\n",
       "         3.69539671e-02, 6.01930497e-03, 3.62717658e-02],\n",
       "        [2.23218231e-03, 1.41526163e-02, 1.65176820e-02, ...,\n",
       "         3.55147012e-02, 1.32113975e-03, 3.14741023e-02]], dtype=float32)],\n",
       "        [array([[1.1255431e+00, 1.9493841e+00, 8.6454356e-01, ..., 1.9177110e+00,\n",
       "         1.5164008e+00, 2.1425612e+00],\n",
       "        [2.0971651e+00, 2.1701338e+00, 2.0380635e+00, ..., 2.0568740e+00,\n",
       "         2.0795269e+00, 2.3913324e+00],\n",
       "        [2.5356419e+00, 2.4822559e+00, 2.5018523e+00, ..., 2.3042872e+00,\n",
       "         2.4791284e+00, 2.6316347e+00],\n",
       "        ...,\n",
       "        [6.9550629e-04, 4.1222731e-03, 2.0467523e-02, ..., 9.7608604e-03,\n",
       "         3.6299448e-02, 3.1637363e-02],\n",
       "        [5.0781742e-03, 1.1615827e-02, 1.5218600e-02, ..., 1.6345587e-02,\n",
       "         3.8843211e-02, 2.0193761e-02],\n",
       "        [5.3870934e-03, 9.8547861e-03, 1.8469518e-02, ..., 6.7690699e-03,\n",
       "         2.9117953e-02, 2.0467585e-02]], dtype=float32)]], dtype=object), array([[   1,    1],\n",
       "        [   1,    2],\n",
       "        [   1,    3],\n",
       "        ...,\n",
       "        [4990,  387],\n",
       "        [4990,  388],\n",
       "        [4990,  389]], dtype=uint16))]],\n",
       "       dtype=[('syl_num', 'O'), ('samples', 'O'), ('idx', 'O')])}"
      ]
     },
     "execution_count": 24,
     "metadata": {},
     "output_type": "execute_result"
    }
   ],
   "source": [
    "data0"
   ]
  },
  {
   "cell_type": "code",
   "execution_count": 25,
   "metadata": {
    "collapsed": true
   },
   "outputs": [],
   "source": [
    "num_syls0 = len(data0['syllable_spects'][0][0][1])"
   ]
  },
  {
   "cell_type": "code",
   "execution_count": 26,
   "metadata": {},
   "outputs": [
    {
     "data": {
      "text/plain": [
       "2538"
      ]
     },
     "execution_count": 26,
     "metadata": {},
     "output_type": "execute_result"
    }
   ],
   "source": [
    "num_syls0"
   ]
  },
  {
   "cell_type": "code",
   "execution_count": null,
   "metadata": {
    "collapsed": true
   },
   "outputs": [],
   "source": []
  }
 ],
 "metadata": {
  "kernelspec": {
   "display_name": "Python 2",
   "language": "python",
   "name": "python2"
  },
  "language_info": {
   "codemirror_mode": {
    "name": "ipython",
    "version": 2
   },
   "file_extension": ".py",
   "mimetype": "text/x-python",
   "name": "python",
   "nbconvert_exporter": "python",
   "pygments_lexer": "ipython2",
   "version": "2.7.13"
  }
 },
 "nbformat": 4,
 "nbformat_minor": 2
}
